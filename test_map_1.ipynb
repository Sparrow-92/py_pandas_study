{
 "cells": [
  {
   "cell_type": "markdown",
   "id": "014cadb2",
   "metadata": {},
   "source": [
    "# Chapter 4. 그래프 그리기\n",
    "\n",
    "#### 데이터의 시각화는 직관적으로 대량의 정보를 처리 및 이해할 수 있도록 돕는다. 따라서 데이터의 시각화는 실무에서 매우 중요함!"
   ]
  },
  {
   "cell_type": "markdown",
   "id": "0cbc95ff",
   "metadata": {},
   "source": [
    "# Chapter 4_1 데이터 시각화가 필요한 이유\n",
    "\n",
    "### 앤스콤 4분할 그래프 살펴보기\n",
    "\n",
    " 앤스콤 4분할 그래프는 데이터 시각화의 필요성을 다른 관점에서 조명. '함정'\n",
    "\n",
    "앤스콤 4분할 그래프를 구성하는 데이터의 집합은 4개의 그룹으로 구성되어 있는데, 각 데이터는 모두 평균, 분산과 같은 수칫값, 상관관계, 회귀선이 같다는 특징을 가짐. (시각화를 거치지 않으면, 모두 같은 데이터를 가진 것으로 오해할 수 있음.)\n",
    "\n",
    "### 앤스콤 데이터 집합 불러온 후 그래프 그리기\n",
    "\n",
    " seaborn 라이브러리의 load_dataset 메서드에 문자열 anscombe을 전달하면 앤스콤 데이터 집합을 불러 올 수 있음.\n",
    " (이때, dataset열은 데이터 그룹을 구분)"
   ]
  },
  {
   "cell_type": "code",
   "execution_count": 2,
   "id": "b89cc757",
   "metadata": {},
   "outputs": [
    {
     "name": "stdout",
     "output_type": "stream",
     "text": [
      "   dataset     x      y\n",
      "0        I  10.0   8.04\n",
      "1        I   8.0   6.95\n",
      "2        I  13.0   7.58\n",
      "3        I   9.0   8.81\n",
      "4        I  11.0   8.33\n",
      "5        I  14.0   9.96\n",
      "6        I   6.0   7.24\n",
      "7        I   4.0   4.26\n",
      "8        I  12.0  10.84\n",
      "9        I   7.0   4.82\n",
      "10       I   5.0   5.68\n",
      "11      II  10.0   9.14\n",
      "12      II   8.0   8.14\n",
      "13      II  13.0   8.74\n",
      "14      II   9.0   8.77\n",
      "15      II  11.0   9.26\n",
      "16      II  14.0   8.10\n",
      "17      II   6.0   6.13\n",
      "18      II   4.0   3.10\n",
      "19      II  12.0   9.13\n",
      "20      II   7.0   7.26\n",
      "21      II   5.0   4.74\n",
      "22     III  10.0   7.46\n",
      "23     III   8.0   6.77\n",
      "24     III  13.0  12.74\n",
      "25     III   9.0   7.11\n",
      "26     III  11.0   7.81\n",
      "27     III  14.0   8.84\n",
      "28     III   6.0   6.08\n",
      "29     III   4.0   5.39\n",
      "30     III  12.0   8.15\n",
      "31     III   7.0   6.42\n",
      "32     III   5.0   5.73\n",
      "33      IV   8.0   6.58\n",
      "34      IV   8.0   5.76\n",
      "35      IV   8.0   7.71\n",
      "36      IV   8.0   8.84\n",
      "37      IV   8.0   8.47\n",
      "38      IV   8.0   7.04\n",
      "39      IV   8.0   5.25\n",
      "40      IV  19.0  12.50\n",
      "41      IV   8.0   5.56\n",
      "42      IV   8.0   7.91\n",
      "43      IV   8.0   6.89\n",
      "<class 'pandas.core.frame.DataFrame'>\n"
     ]
    }
   ],
   "source": [
    "import seaborn as sns\n",
    "\n",
    "anscombe = sns.load_dataset(\"anscombe\")\n",
    "print(anscombe)\n",
    "print(type(anscombe))"
   ]
  },
  {
   "cell_type": "markdown",
   "id": "6ada7946",
   "metadata": {},
   "source": [
    "### Matplotlib 라이브러리로 그래프 그리기\n",
    "\n",
    "#### matplotlib 라이브러리 불러오기."
   ]
  },
  {
   "cell_type": "code",
   "execution_count": 3,
   "id": "bfe5bc5e",
   "metadata": {},
   "outputs": [],
   "source": [
    "%matplotlib notebook\n",
    "import matplotlib.pyplot as plt"
   ]
  },
  {
   "cell_type": "markdown",
   "id": "13053a15",
   "metadata": {},
   "source": [
    "불러온 이후 "
   ]
  }
 ],
 "metadata": {
  "kernelspec": {
   "display_name": "Python 3 (ipykernel)",
   "language": "python",
   "name": "python3"
  },
  "language_info": {
   "codemirror_mode": {
    "name": "ipython",
    "version": 3
   },
   "file_extension": ".py",
   "mimetype": "text/x-python",
   "name": "python",
   "nbconvert_exporter": "python",
   "pygments_lexer": "ipython3",
   "version": "3.9.7"
  }
 },
 "nbformat": 4,
 "nbformat_minor": 5
}
