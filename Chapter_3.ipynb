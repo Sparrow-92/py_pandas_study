{
 "cells": [
  {
   "cell_type": "markdown",
   "id": "e73219d2",
   "metadata": {},
   "source": [
    "# Chapter 3. 판다스 데이터프레임과 시리즈\n",
    "\n",
    "#### 데이터프레임과 시리즈는 데이터를 다루는 데 더 특화되어 있음. 많은 양의 데이터를 저장, 스프레드시트 프로그램과 같이 행과 열 단위로 원하는 데이터를 조작할 수 있음.\n",
    "\n",
    "#### 알아두기: 파이썬 자료형(리스트, 딕셔너리), 파이썬 함수 사용법, 파이썬 인덱스"
   ]
  },
  {
   "cell_type": "markdown",
   "id": "4bd333c0",
   "metadata": {},
   "source": [
    "# Chapter 3_1 나만의 데이터 만들기\n",
    "\n",
    "### 시리즈와 데이터프레임 직접 만들기\n",
    "\n",
    "#### 1. 시리즈 만들기\n",
    "#### 판다스의 Series 메서드에 리스트를 전달하여 시리즈를 생성."
   ]
  },
  {
   "cell_type": "code",
   "execution_count": 3,
   "id": "2f3af3d0",
   "metadata": {},
   "outputs": [
    {
     "name": "stdout",
     "output_type": "stream",
     "text": [
      "0    banana\n",
      "1        42\n",
      "dtype: object\n"
     ]
    }
   ],
   "source": [
    "import pandas as pd\n",
    "s = pd.Series(['banana',42])\n",
    "print(s)"
   ]
  },
  {
   "cell_type": "markdown",
   "id": "701ff84e",
   "metadata": {},
   "source": [
    "#### 2. 새로 시리즈를 생성할 때, 문자열을 인덱스로 지정할 수 있음. (보통 0~부터 정수로 지정됨.)\n",
    "#### Series 메서드의 index 인자를 통해 인덱스로 사용하고자 하는 문자열을 리스트에 담아 전달."
   ]
  },
  {
   "cell_type": "code",
   "execution_count": 3,
   "id": "b6eff4d1",
   "metadata": {},
   "outputs": [
    {
     "name": "stdout",
     "output_type": "stream",
     "text": [
      "0         Wes McKinney\n",
      "1    Creator of Pandas\n",
      "dtype: object\n"
     ]
    }
   ],
   "source": [
    "s = pd.Series(['Wes McKinney','Creator of Pandas'])\n",
    "print(s)"
   ]
  },
  {
   "cell_type": "code",
   "execution_count": 4,
   "id": "9a5a047b",
   "metadata": {},
   "outputs": [
    {
     "name": "stdout",
     "output_type": "stream",
     "text": [
      "Person         Wes McKinney\n",
      "Who       Creator of Pandas\n",
      "dtype: object\n"
     ]
    }
   ],
   "source": [
    "s = pd.Series(['Wes McKinney','Creator of Pandas'], index=['Person','Who'])\n",
    "print(s)"
   ]
  },
  {
   "cell_type": "markdown",
   "id": "ee14549e",
   "metadata": {},
   "source": [
    "#### 3. 데이터프레임 만들기\n",
    "#### 딕셔너리를 DataFrame 클래스로 전달."
   ]
  },
  {
   "cell_type": "code",
   "execution_count": 5,
   "id": "a9f2dfff",
   "metadata": {},
   "outputs": [
    {
     "name": "stdout",
     "output_type": "stream",
     "text": [
      "                Name    Occupation        Born        Died  Age\n",
      "0  Rosaline Franklin       Chemist  1920-07-25  1958-04-16   37\n",
      "1     William Gosset  statistician  1876-06-13  1937-10-16   61\n"
     ]
    }
   ],
   "source": [
    "scientists = pd.DataFrame({\n",
    "    'Name': ['Rosaline Franklin','William Gosset'],\n",
    "    'Occupation': ['Chemist','statistician'],\n",
    "    'Born': ['1920-07-25', '1876-06-13'],\n",
    "    'Died': ['1958-04-16','1937-10-16'],\n",
    "    'Age': [37,61]}\n",
    ")\n",
    "print(scientists)"
   ]
  },
  {
   "cell_type": "markdown",
   "id": "b9427dd1",
   "metadata": {},
   "source": [
    "#### 인덱스를 지정하지 않은 경우 0부터 정수로 입력된 인덱스를 좌측에서 확인할 수 있음.\n",
    "#### index 인자에 리스트를 전달할 경우 인덱스를 따로 지정할 수 있음. columns 인자를 사용하면 데이터프레임의 열 순서를 지정할 수 있음.\n",
    "#### 이는 딕셔너리의 순서와 무관하게 columns에 전달된 값을 따라 지정됨."
   ]
  },
  {
   "cell_type": "code",
   "execution_count": 8,
   "id": "42bd814a",
   "metadata": {},
   "outputs": [
    {
     "name": "stdout",
     "output_type": "stream",
     "text": [
      "                     Occupation        Born  Age        Died\n",
      "Rosaline Franklin       Chemist  1920-07-25   37  1958-04-16\n",
      "William Gosset     Statistician  1876-06-13   61  1937-10-16\n"
     ]
    }
   ],
   "source": [
    "scientists = pd.DataFrame(\n",
    "data={'Occupation': ['Chemist','Statistician'],\n",
    "     'Born': ['1920-07-25','1876-06-13'],\n",
    "     'Died': ['1958-04-16','1937-10-16'],\n",
    "     'Age':[37,61]},\n",
    "index = ['Rosaline Franklin','William Gosset'],\n",
    "columns = ['Occupation','Born','Age','Died']\n",
    ")\n",
    "print(scientists)"
   ]
  },
  {
   "cell_type": "markdown",
   "id": "b3eac54e",
   "metadata": {},
   "source": [
    "#### Died와 Age의 순서가 columns 메서드의 순서에 따라 변경된 것을 확인할 수 있음.\n",
    "#### 다만 딕셔너리는 키(Key)와 값(Value)로 이루어진 한 쌍의 데이터의 순서를 보장하지 않음.\n",
    "#### 순서가 보장된 딕셔너리를 전달하기 위해서는 OrederedDict을 사용."
   ]
  },
  {
   "cell_type": "code",
   "execution_count": 10,
   "id": "0b27fbe2",
   "metadata": {},
   "outputs": [
    {
     "name": "stdout",
     "output_type": "stream",
     "text": [
      "                Name    Occupation        Born        Died  Age\n",
      "0  Rosaline Franklin       Chemist  1920-07-25  1958-04-16   37\n",
      "1     William Gosset  Statistician  1876-06-13  1937-10-16   61\n"
     ]
    }
   ],
   "source": [
    "from collections import OrderedDict\n",
    "\n",
    "scientists = pd.DataFrame(OrderedDict([\n",
    "    ('Name',['Rosaline Franklin','William Gosset']),\n",
    "    ('Occupation',['Chemist','Statistician']),\n",
    "    ('Born',['1920-07-25','1876-06-13']),\n",
    "    ('Died',['1958-04-16','1937-10-16']),\n",
    "    ('Age',[37,61])\n",
    "])\n",
    ")\n",
    "print(scientists)"
   ]
  },
  {
   "cell_type": "markdown",
   "id": "5fede4ce",
   "metadata": {},
   "source": [
    "# Chapter 3_2 시리즈 다루기 - 기초\n",
    "\n",
    "#### 시리즈는 판다스의 데이터를 구성하는 기본단위.\n",
    "\n",
    "#### 데이터프레임에서 시리즈 선택하기.\n",
    "\n",
    "#### 변수 scientists에 데이터프레임을 준비"
   ]
  },
  {
   "cell_type": "code",
   "execution_count": 11,
   "id": "a7605ad7",
   "metadata": {},
   "outputs": [],
   "source": [
    "scientists = pd.DataFrame(\n",
    "data={'Occupation':['Chemist','Statistician'],\n",
    "     'Born':['1920-07-25','1876-06-13'],\n",
    "     'Died':['1958-04-16','1937-10-16'],\n",
    "     'Age':[37,61]},\n",
    "index = ['Rosaline Fraklin','William Gosset'],\n",
    "columns = ['Occupation','Born','Died','Age'])"
   ]
  },
  {
   "cell_type": "markdown",
   "id": "b93661bb",
   "metadata": {},
   "source": [
    "#### 데이터프레임에서 시리즈를 선택하려면 loc 속성에 인덱스(과학자 이름)를 전달. \n",
    "#### 시리즈 선택을 확인하기 위해 type 메서드로 검사."
   ]
  },
  {
   "cell_type": "code",
   "execution_count": 12,
   "id": "ba5f090d",
   "metadata": {},
   "outputs": [
    {
     "name": "stdout",
     "output_type": "stream",
     "text": [
      "<class 'pandas.core.series.Series'>\n"
     ]
    }
   ],
   "source": [
    "first_row = scientists.loc['William Gosset']\n",
    "print(type(first_row))"
   ]
  },
  {
   "cell_type": "markdown",
   "id": "e469d7e9",
   "metadata": {},
   "source": [
    "#### first_row 출력.\n",
    "#### Age에 정수형 리스트가 전달되어 있으나 자료형은 오브젝트로 인식됨."
   ]
  },
  {
   "cell_type": "code",
   "execution_count": 13,
   "id": "1e0082f3",
   "metadata": {},
   "outputs": [
    {
     "name": "stdout",
     "output_type": "stream",
     "text": [
      "Occupation    Statistician\n",
      "Born            1876-06-13\n",
      "Died            1937-10-16\n",
      "Age                     61\n",
      "Name: William Gosset, dtype: object\n"
     ]
    }
   ],
   "source": [
    "print(first_row)"
   ]
  },
  {
   "cell_type": "markdown",
   "id": "7fc4586d",
   "metadata": {},
   "source": [
    "#### loc,iloc 외 index, values 속성과 keys 메서드가 있음.\n",
    "\n",
    "#### index 속성에는 시리즈의 인덱스가 포함됨."
   ]
  },
  {
   "cell_type": "code",
   "execution_count": 14,
   "id": "d6bf5509",
   "metadata": {},
   "outputs": [
    {
     "name": "stdout",
     "output_type": "stream",
     "text": [
      "Index(['Occupation', 'Born', 'Died', 'Age'], dtype='object')\n"
     ]
    }
   ],
   "source": [
    "print(first_row.index)"
   ]
  },
  {
   "cell_type": "markdown",
   "id": "8271c3b2",
   "metadata": {},
   "source": [
    "#### values 속성에는 시리즈의 데이터가 정당되어 있음."
   ]
  },
  {
   "cell_type": "code",
   "execution_count": 15,
   "id": "c2d9a047",
   "metadata": {},
   "outputs": [
    {
     "name": "stdout",
     "output_type": "stream",
     "text": [
      "['Statistician' '1876-06-13' '1937-10-16' 61]\n"
     ]
    }
   ],
   "source": [
    "print(first_row.values)"
   ]
  },
  {
   "cell_type": "markdown",
   "id": "2bbee8d5",
   "metadata": {},
   "source": [
    "#### keys는 속성이 아닌 메서드. index 속성과 같은 역할을 수행함."
   ]
  },
  {
   "cell_type": "code",
   "execution_count": 16,
   "id": "22ab0c2d",
   "metadata": {},
   "outputs": [
    {
     "name": "stdout",
     "output_type": "stream",
     "text": [
      "Index(['Occupation', 'Born', 'Died', 'Age'], dtype='object')\n"
     ]
    }
   ],
   "source": [
    "print(first_row.keys())"
   ]
  },
  {
   "cell_type": "markdown",
   "id": "1d94a7ab",
   "metadata": {},
   "source": [
    "#### index 속성의 첫 번째 값을 추출하기 위해서는 아래와 같은 코드를 사용"
   ]
  },
  {
   "cell_type": "code",
   "execution_count": 17,
   "id": "c3af5f62",
   "metadata": {},
   "outputs": [
    {
     "name": "stdout",
     "output_type": "stream",
     "text": [
      "Occupation\n"
     ]
    }
   ],
   "source": [
    "print(first_row.index[0])"
   ]
  },
  {
   "cell_type": "markdown",
   "id": "a7a1e771",
   "metadata": {},
   "source": [
    "#### keys 메서드의 결괏괎을 이용하여 인덱스의 첫 번째 값을 추출하는 방법은 아래와 같음."
   ]
  },
  {
   "cell_type": "code",
   "execution_count": 19,
   "id": "73f9f5e2",
   "metadata": {},
   "outputs": [
    {
     "name": "stdout",
     "output_type": "stream",
     "text": [
      "Occupation\n"
     ]
    }
   ],
   "source": [
    "print(first_row.keys()[0])"
   ]
  },
  {
   "cell_type": "markdown",
   "id": "430c5736",
   "metadata": {},
   "source": [
    "### 시리즈의 기초 통계 메서드\n",
    "\n",
    "#### mean, min, max, std 메서드\n",
    "\n",
    "#### scientstis의 Age 열을 통해 확인"
   ]
  },
  {
   "cell_type": "code",
   "execution_count": 20,
   "id": "a012a02f",
   "metadata": {},
   "outputs": [
    {
     "name": "stdout",
     "output_type": "stream",
     "text": [
      "Rosaline Fraklin    37\n",
      "William Gosset      61\n",
      "Name: Age, dtype: int64\n"
     ]
    }
   ],
   "source": [
    "ages = scientists['Age']\n",
    "print(ages)"
   ]
  },
  {
   "cell_type": "markdown",
   "id": "834bc0c4",
   "metadata": {},
   "source": [
    "#### 이때, 시리즈를 구성하는 데이터가 정수라면, mean, min, max, std와 같은 통계 메서드를 사용할 수 있음."
   ]
  },
  {
   "cell_type": "code",
   "execution_count": 21,
   "id": "526360f9",
   "metadata": {},
   "outputs": [
    {
     "name": "stdout",
     "output_type": "stream",
     "text": [
      "49.0\n"
     ]
    }
   ],
   "source": [
    "print(ages.mean())"
   ]
  },
  {
   "cell_type": "code",
   "execution_count": 22,
   "id": "cb011905",
   "metadata": {},
   "outputs": [
    {
     "name": "stdout",
     "output_type": "stream",
     "text": [
      "37\n"
     ]
    }
   ],
   "source": [
    "print(ages.min())"
   ]
  },
  {
   "cell_type": "code",
   "execution_count": 23,
   "id": "8e5b9113",
   "metadata": {},
   "outputs": [
    {
     "name": "stdout",
     "output_type": "stream",
     "text": [
      "61\n"
     ]
    }
   ],
   "source": [
    "print(ages.max())"
   ]
  },
  {
   "cell_type": "code",
   "execution_count": 24,
   "id": "fac141aa",
   "metadata": {},
   "outputs": [
    {
     "name": "stdout",
     "output_type": "stream",
     "text": [
      "16.97056274847714\n"
     ]
    }
   ],
   "source": [
    "print(ages.std())"
   ]
  },
  {
   "cell_type": "markdown",
   "id": "f8ce1be7",
   "metadata": {},
   "source": [
    "#### 시리즈 메서드 정리\n",
    "\n",
    "#### append: 2개 이상의 시리즈 연결\n",
    "#### describe: 요약 통계량 계산\n",
    "#### drop_duplicates: 중복값이 없는 시리즈 반환\n",
    "#### equals: 시리즈에 해당 값을 가진 요소가 있는지 확인\n",
    "#### get_values: 시리즈 값 구하기 (values 속성과 동일)\n",
    "#### isin: 시리즈에 포함된 값이 있는지 확인\n",
    "#### min: 최솟값 반환\n",
    "#### max: 최댓값 반환\n",
    "#### mean: 산술 평균 반환\n",
    "#### median: 중간값 반환\n",
    "#### replace: 특정 값을 가진 시리즈 값을 교체\n",
    "#### sample: 시리즈에서 임의의 값을 반환\n",
    "#### sort_values:  값을 정렬\n",
    "#### to_frame: 시리즈를 데이터프레임으로 변환"
   ]
  },
  {
   "cell_type": "markdown",
   "id": "3191e8e3",
   "metadata": {},
   "source": [
    "# Chapter 3_3 시리즈 다루기 - 응용\n",
    "\n",
    "### 시리즈와 불린 추출\n",
    "#### 추출할 데이터의 정확한 인덱스를 모르는 경우 불린 추출을 통해 추출.\n",
    "#### 불린 추출은 특정 조건을 만족하는 값만 추출.\n",
    "\n",
    "#### 'scientists.csv'데이터 불러오기"
   ]
  },
  {
   "cell_type": "code",
   "execution_count": 4,
   "id": "c0f139a9",
   "metadata": {},
   "outputs": [],
   "source": [
    "scientists = pd.read_csv('doit_pandas/data/scientists.csv')"
   ]
  },
  {
   "cell_type": "code",
   "execution_count": 5,
   "id": "bc4baa38",
   "metadata": {},
   "outputs": [
    {
     "name": "stdout",
     "output_type": "stream",
     "text": [
      "C:\\Users\\user\\python_study\\doit_pandas_study\n"
     ]
    }
   ],
   "source": [
    "import os\n",
    "print(os.getcwd())"
   ]
  },
  {
   "cell_type": "code",
   "execution_count": 7,
   "id": "c8b13fd9",
   "metadata": {},
   "outputs": [
    {
     "data": {
      "text/html": [
       "<div>\n",
       "<style scoped>\n",
       "    .dataframe tbody tr th:only-of-type {\n",
       "        vertical-align: middle;\n",
       "    }\n",
       "\n",
       "    .dataframe tbody tr th {\n",
       "        vertical-align: top;\n",
       "    }\n",
       "\n",
       "    .dataframe thead th {\n",
       "        text-align: right;\n",
       "    }\n",
       "</style>\n",
       "<table border=\"1\" class=\"dataframe\">\n",
       "  <thead>\n",
       "    <tr style=\"text-align: right;\">\n",
       "      <th></th>\n",
       "      <th>Name</th>\n",
       "      <th>Born</th>\n",
       "      <th>Died</th>\n",
       "      <th>Age</th>\n",
       "      <th>Occupation</th>\n",
       "    </tr>\n",
       "  </thead>\n",
       "  <tbody>\n",
       "    <tr>\n",
       "      <th>0</th>\n",
       "      <td>Rosaline Franklin</td>\n",
       "      <td>1920-07-25</td>\n",
       "      <td>1958-04-16</td>\n",
       "      <td>37</td>\n",
       "      <td>Chemist</td>\n",
       "    </tr>\n",
       "    <tr>\n",
       "      <th>1</th>\n",
       "      <td>William Gosset</td>\n",
       "      <td>1876-06-13</td>\n",
       "      <td>1937-10-16</td>\n",
       "      <td>61</td>\n",
       "      <td>Statistician</td>\n",
       "    </tr>\n",
       "    <tr>\n",
       "      <th>2</th>\n",
       "      <td>Florence Nightingale</td>\n",
       "      <td>1820-05-12</td>\n",
       "      <td>1910-08-13</td>\n",
       "      <td>90</td>\n",
       "      <td>Nurse</td>\n",
       "    </tr>\n",
       "    <tr>\n",
       "      <th>3</th>\n",
       "      <td>Marie Curie</td>\n",
       "      <td>1867-11-07</td>\n",
       "      <td>1934-07-04</td>\n",
       "      <td>66</td>\n",
       "      <td>Chemist</td>\n",
       "    </tr>\n",
       "    <tr>\n",
       "      <th>4</th>\n",
       "      <td>Rachel Carson</td>\n",
       "      <td>1907-05-27</td>\n",
       "      <td>1964-04-14</td>\n",
       "      <td>56</td>\n",
       "      <td>Biologist</td>\n",
       "    </tr>\n",
       "    <tr>\n",
       "      <th>5</th>\n",
       "      <td>John Snow</td>\n",
       "      <td>1813-03-15</td>\n",
       "      <td>1858-06-16</td>\n",
       "      <td>45</td>\n",
       "      <td>Physician</td>\n",
       "    </tr>\n",
       "    <tr>\n",
       "      <th>6</th>\n",
       "      <td>Alan Turing</td>\n",
       "      <td>1912-06-23</td>\n",
       "      <td>1954-06-07</td>\n",
       "      <td>41</td>\n",
       "      <td>Computer Scientist</td>\n",
       "    </tr>\n",
       "    <tr>\n",
       "      <th>7</th>\n",
       "      <td>Johann Gauss</td>\n",
       "      <td>1777-04-30</td>\n",
       "      <td>1855-02-23</td>\n",
       "      <td>77</td>\n",
       "      <td>Mathematician</td>\n",
       "    </tr>\n",
       "  </tbody>\n",
       "</table>\n",
       "</div>"
      ],
      "text/plain": [
       "                   Name        Born        Died  Age          Occupation\n",
       "0     Rosaline Franklin  1920-07-25  1958-04-16   37             Chemist\n",
       "1        William Gosset  1876-06-13  1937-10-16   61        Statistician\n",
       "2  Florence Nightingale  1820-05-12  1910-08-13   90               Nurse\n",
       "3           Marie Curie  1867-11-07  1934-07-04   66             Chemist\n",
       "4         Rachel Carson  1907-05-27  1964-04-14   56           Biologist\n",
       "5             John Snow  1813-03-15  1858-06-16   45           Physician\n",
       "6           Alan Turing  1912-06-23  1954-06-07   41  Computer Scientist\n",
       "7          Johann Gauss  1777-04-30  1855-02-23   77       Mathematician"
      ]
     },
     "execution_count": 7,
     "metadata": {},
     "output_type": "execute_result"
    }
   ],
   "source": [
    "scientists"
   ]
  },
  {
   "cell_type": "markdown",
   "id": "d0e86b9f",
   "metadata": {},
   "source": [
    "#### mean, min, max, std 메서드를 통한 통계 수치 계산 (Age열을 기준으로)"
   ]
  },
  {
   "cell_type": "code",
   "execution_count": 8,
   "id": "54ec2570",
   "metadata": {},
   "outputs": [
    {
     "name": "stdout",
     "output_type": "stream",
     "text": [
      "90\n"
     ]
    }
   ],
   "source": [
    "ages = scientists['Age']\n",
    "print(ages.max())"
   ]
  },
  {
   "cell_type": "code",
   "execution_count": 9,
   "id": "a5845120",
   "metadata": {},
   "outputs": [
    {
     "name": "stdout",
     "output_type": "stream",
     "text": [
      "59.125\n"
     ]
    }
   ],
   "source": [
    "print(ages.mean())"
   ]
  },
  {
   "cell_type": "code",
   "execution_count": 10,
   "id": "34feadad",
   "metadata": {},
   "outputs": [
    {
     "name": "stdout",
     "output_type": "stream",
     "text": [
      "37\n"
     ]
    }
   ],
   "source": [
    "print(ages.min())"
   ]
  },
  {
   "cell_type": "code",
   "execution_count": 11,
   "id": "55d41a53",
   "metadata": {},
   "outputs": [
    {
     "name": "stdout",
     "output_type": "stream",
     "text": [
      "18.325918413937288\n"
     ]
    }
   ],
   "source": [
    "print(ages.std())"
   ]
  },
  {
   "cell_type": "code",
   "execution_count": 12,
   "id": "298df3a5",
   "metadata": {},
   "outputs": [
    {
     "name": "stdout",
     "output_type": "stream",
     "text": [
      "90\n"
     ]
    }
   ],
   "source": [
    "print(ages.max())"
   ]
  },
  {
   "cell_type": "markdown",
   "id": "e6bb4f8d",
   "metadata": {},
   "source": [
    "#### 불린 추출: 평균 나이보다 나이가 많은 사람의 데이터를 추출."
   ]
  },
  {
   "cell_type": "code",
   "execution_count": 15,
   "id": "2ffb20ed",
   "metadata": {},
   "outputs": [
    {
     "name": "stdout",
     "output_type": "stream",
     "text": [
      "1    61\n",
      "2    90\n",
      "3    66\n",
      "7    77\n",
      "Name: Age, dtype: int64\n"
     ]
    }
   ],
   "source": [
    "print(ages[ages > ages.mean()])"
   ]
  },
  {
   "cell_type": "code",
   "execution_count": 17,
   "id": "84b6c91d",
   "metadata": {},
   "outputs": [
    {
     "name": "stdout",
     "output_type": "stream",
     "text": [
      "0    False\n",
      "1     True\n",
      "2     True\n",
      "3     True\n",
      "4    False\n",
      "5    False\n",
      "6    False\n",
      "7     True\n",
      "Name: Age, dtype: bool\n"
     ]
    }
   ],
   "source": [
    "print(ages > ages.mean())"
   ]
  },
  {
   "cell_type": "markdown",
   "id": "9cc51659",
   "metadata": {},
   "source": [
    "#### ages > ages.mean()의 결과를 추출한 결과 해당 조건(평균보다 높은 값)을 가진 인덱스 1,2,3,7의 데이터는 참(True)로 표기됨.\n",
    "#### 따라서 조건식을 만족한 값만 출력된 것을 확인할 수 있음.\n",
    "#### 리스트의 형태로 참이나 거짓을 시리즈에 ㄷ전달하면, 참인 인덱스의 데이터만 추출할 수 있음. (이를 '불린 추출'(bool_values)라 표기함)"
   ]
  },
  {
   "cell_type": "code",
   "execution_count": 19,
   "id": "d3edeb4e",
   "metadata": {},
   "outputs": [
    {
     "name": "stdout",
     "output_type": "stream",
     "text": [
      "0    37\n",
      "1    61\n",
      "4    56\n",
      "5    45\n",
      "7    77\n",
      "Name: Age, dtype: int64\n"
     ]
    }
   ],
   "source": [
    "manual_bool_values = [True, True, False, False, True, True, False, True]\n",
    "print(ages[manual_bool_values])"
   ]
  },
  {
   "cell_type": "markdown",
   "id": "6d3727ec",
   "metadata": {},
   "source": [
    "### 시리즈와 브로드 캐스팅\n",
    "\n",
    "#### 시리즈나 데이터프레임에 있는 모든 데이터에 대해 한 번에 연산하는 것을 브로드캐스팅이라고 함. (Broadcasting)\n",
    "#### 여러 개의 값을 가진 데이터를 벡터, 단순 크기를 나타내는 데이터를 스칼라 라고 부름. (시리즈는 벡터의 일종)\n",
    "\n",
    "### 벡터와 스칼라로 브로드캐스팅 수행하기\n",
    "\n",
    "#### 벡터를 이용하여 더하기, 곱하기 연산을 수행하면 같은 길이의 벡터가 출력됨."
   ]
  },
  {
   "cell_type": "code",
   "execution_count": 20,
   "id": "3612376a",
   "metadata": {},
   "outputs": [
    {
     "name": "stdout",
     "output_type": "stream",
     "text": [
      "0     74\n",
      "1    122\n",
      "2    180\n",
      "3    132\n",
      "4    112\n",
      "5     90\n",
      "6     82\n",
      "7    154\n",
      "Name: Age, dtype: int64\n"
     ]
    }
   ],
   "source": [
    "print(ages+ages)"
   ]
  },
  {
   "cell_type": "code",
   "execution_count": 21,
   "id": "40c427c3",
   "metadata": {},
   "outputs": [
    {
     "name": "stdout",
     "output_type": "stream",
     "text": [
      "0    1369\n",
      "1    3721\n",
      "2    8100\n",
      "3    4356\n",
      "4    3136\n",
      "5    2025\n",
      "6    1681\n",
      "7    5929\n",
      "Name: Age, dtype: int64\n"
     ]
    }
   ],
   "source": [
    "print(ages*ages)"
   ]
  },
  {
   "cell_type": "markdown",
   "id": "8de0d835",
   "metadata": {},
   "source": [
    "#### 벡터의 모든 값에 스칼라를 적용하여 브로드캐스팅한 것은 아래와 같음"
   ]
  },
  {
   "cell_type": "code",
   "execution_count": 22,
   "id": "eaccb7f7",
   "metadata": {},
   "outputs": [
    {
     "name": "stdout",
     "output_type": "stream",
     "text": [
      "0    137\n",
      "1    161\n",
      "2    190\n",
      "3    166\n",
      "4    156\n",
      "5    145\n",
      "6    141\n",
      "7    177\n",
      "Name: Age, dtype: int64\n"
     ]
    }
   ],
   "source": [
    "print(ages+100)"
   ]
  },
  {
   "cell_type": "code",
   "execution_count": 23,
   "id": "db59841e",
   "metadata": {},
   "outputs": [
    {
     "name": "stdout",
     "output_type": "stream",
     "text": [
      "0     74\n",
      "1    122\n",
      "2    180\n",
      "3    132\n",
      "4    112\n",
      "5     90\n",
      "6     82\n",
      "7    154\n",
      "Name: Age, dtype: int64\n"
     ]
    }
   ],
   "source": [
    "print(ages*2)"
   ]
  },
  {
   "cell_type": "markdown",
   "id": "42dbfe25",
   "metadata": {},
   "source": [
    "#### 길이가 서로 다른 벡터를 연산하는 경우: 시리즈와 시리즈를 연산할 때, 같은 인덱스의 값만 계산됨.\n",
    "#### 인덱스가 일치하지 않는 결과는 누락값(NaN)으로 처리됨."
   ]
  },
  {
   "cell_type": "code",
   "execution_count": 24,
   "id": "c5206035",
   "metadata": {},
   "outputs": [
    {
     "ename": "AttributeError",
     "evalue": "module 'pandas' has no attribute 'Seres'",
     "output_type": "error",
     "traceback": [
      "\u001b[1;31m---------------------------------------------------------------------------\u001b[0m",
      "\u001b[1;31mAttributeError\u001b[0m                            Traceback (most recent call last)",
      "\u001b[1;32m~\\AppData\\Local\\Temp/ipykernel_11756/3868155947.py\u001b[0m in \u001b[0;36m<module>\u001b[1;34m\u001b[0m\n\u001b[1;32m----> 1\u001b[1;33m \u001b[0mprint\u001b[0m\u001b[1;33m(\u001b[0m\u001b[0mpd\u001b[0m\u001b[1;33m.\u001b[0m\u001b[0mSeres\u001b[0m\u001b[1;33m(\u001b[0m\u001b[1;33m[\u001b[0m\u001b[1;36m1\u001b[0m\u001b[1;33m,\u001b[0m\u001b[1;36m100\u001b[0m\u001b[1;33m]\u001b[0m\u001b[1;33m)\u001b[0m\u001b[1;33m)\u001b[0m\u001b[1;33m\u001b[0m\u001b[1;33m\u001b[0m\u001b[0m\n\u001b[0m",
      "\u001b[1;32m~\\anaconda3\\lib\\site-packages\\pandas\\__init__.py\u001b[0m in \u001b[0;36m__getattr__\u001b[1;34m(name)\u001b[0m\n\u001b[0;32m    242\u001b[0m         \u001b[1;32mreturn\u001b[0m \u001b[0m_SparseArray\u001b[0m\u001b[1;33m\u001b[0m\u001b[1;33m\u001b[0m\u001b[0m\n\u001b[0;32m    243\u001b[0m \u001b[1;33m\u001b[0m\u001b[0m\n\u001b[1;32m--> 244\u001b[1;33m     \u001b[1;32mraise\u001b[0m \u001b[0mAttributeError\u001b[0m\u001b[1;33m(\u001b[0m\u001b[1;34mf\"module 'pandas' has no attribute '{name}'\"\u001b[0m\u001b[1;33m)\u001b[0m\u001b[1;33m\u001b[0m\u001b[1;33m\u001b[0m\u001b[0m\n\u001b[0m\u001b[0;32m    245\u001b[0m \u001b[1;33m\u001b[0m\u001b[0m\n\u001b[0;32m    246\u001b[0m \u001b[1;33m\u001b[0m\u001b[0m\n",
      "\u001b[1;31mAttributeError\u001b[0m: module 'pandas' has no attribute 'Seres'"
     ]
    }
   ],
   "source": [
    "print(pd.Seres([1,100]))"
   ]
  },
  {
   "cell_type": "code",
   "execution_count": 25,
   "id": "60b7213b",
   "metadata": {},
   "outputs": [
    {
     "name": "stdout",
     "output_type": "stream",
     "text": [
      "0     38.0\n",
      "1    161.0\n",
      "2      NaN\n",
      "3      NaN\n",
      "4      NaN\n",
      "5      NaN\n",
      "6      NaN\n",
      "7      NaN\n",
      "dtype: float64\n"
     ]
    }
   ],
   "source": [
    "print(ages + pd.Series([1,100]))"
   ]
  },
  {
   "cell_type": "markdown",
   "id": "580dab11",
   "metadata": {},
   "source": [
    "#### sort_index 메서드: asending(내림차순) 인자로 False를 전달한 값은 아래와 같음. (데이터의 역순이 아님에 주의)"
   ]
  },
  {
   "cell_type": "code",
   "execution_count": 27,
   "id": "3fe58718",
   "metadata": {},
   "outputs": [
    {
     "name": "stdout",
     "output_type": "stream",
     "text": [
      "7    77\n",
      "6    41\n",
      "5    45\n",
      "4    56\n",
      "3    66\n",
      "2    90\n",
      "1    61\n",
      "0    37\n",
      "Name: Age, dtype: int64\n"
     ]
    }
   ],
   "source": [
    "rev_ages = ages.sort_index(ascending=False)\n",
    "print(rev_ages)"
   ]
  },
  {
   "cell_type": "markdown",
   "id": "a2d422e2",
   "metadata": {},
   "source": [
    "#### 순차적으로 정렬된 ages와 내림차순으로 정렬된 rev_ages를 연산한 것은 정렬여부와 무관하게 같은 값을 가짐. (벡터와 벡터의 연산은 일치하는 인덱스의 값끼리 수행되기 때문!)"
   ]
  },
  {
   "cell_type": "code",
   "execution_count": 28,
   "id": "2d9e6ea6",
   "metadata": {},
   "outputs": [
    {
     "name": "stdout",
     "output_type": "stream",
     "text": [
      "0     74\n",
      "1    122\n",
      "2    180\n",
      "3    132\n",
      "4    112\n",
      "5     90\n",
      "6     82\n",
      "7    154\n",
      "Name: Age, dtype: int64\n"
     ]
    }
   ],
   "source": [
    "print(ages*2)"
   ]
  },
  {
   "cell_type": "code",
   "execution_count": 30,
   "id": "94814d82",
   "metadata": {},
   "outputs": [
    {
     "name": "stdout",
     "output_type": "stream",
     "text": [
      "0     74\n",
      "1    122\n",
      "2    180\n",
      "3    132\n",
      "4    112\n",
      "5     90\n",
      "6     82\n",
      "7    154\n",
      "Name: Age, dtype: int64\n"
     ]
    }
   ],
   "source": [
    "print(ages+rev_ages)"
   ]
  },
  {
   "cell_type": "markdown",
   "id": "cfa375cc",
   "metadata": {},
   "source": [
    "#### 2를 곱한것과 역순으로 정렬된 값을 더한 것이 같은 값을 가진다는 것을 확인할 수 있음."
   ]
  },
  {
   "cell_type": "markdown",
   "id": "94b069d9",
   "metadata": {},
   "source": [
    "# Chapter 3_4 데이터프레임 다루기\n",
    "\n",
    "#### 데이터프레임 역시 시리즈처럼 불린 추출과 브로드캐스팅을 이용할 수 있음.\n",
    "\n",
    "### 불린 추출하기"
   ]
  },
  {
   "cell_type": "code",
   "execution_count": 31,
   "id": "1f38b4db",
   "metadata": {},
   "outputs": [
    {
     "name": "stdout",
     "output_type": "stream",
     "text": [
      "                   Name        Born        Died  Age     Occupation\n",
      "1        William Gosset  1876-06-13  1937-10-16   61   Statistician\n",
      "2  Florence Nightingale  1820-05-12  1910-08-13   90          Nurse\n",
      "3           Marie Curie  1867-11-07  1934-07-04   66        Chemist\n",
      "7          Johann Gauss  1777-04-30  1855-02-23   77  Mathematician\n"
     ]
    }
   ],
   "source": [
    "print(scientists[scientists['Age']>scientists['Age'].mean()])"
   ]
  },
  {
   "cell_type": "markdown",
   "id": "0c51f775",
   "metadata": {},
   "source": [
    "#### 참과 거싯을 담은 리스트를 bool 벡터로 부름. 이때, bool 벡터의 길이가 데이터프레임의 행 길이보다 짧으면, bool 벡터의 길이만큼만 연산됨.\n",
    "#### loc 속성에 길이가 4인 bool 벡터를 전달한 것은 아래와 같음.\n",
    "#### (교재와 달리 최신버전에서는 벡터의 길이가 짧은 것을 연산할 경우 에러가 발생, 모든 벡터의 길이를 추가한 것은 아래와 같음.)"
   ]
  },
  {
   "cell_type": "code",
   "execution_count": 36,
   "id": "89258a0c",
   "metadata": {},
   "outputs": [
    {
     "name": "stdout",
     "output_type": "stream",
     "text": [
      "                Name        Born        Died  Age          Occupation\n",
      "0  Rosaline Franklin  1920-07-25  1958-04-16   37             Chemist\n",
      "1     William Gosset  1876-06-13  1937-10-16   61        Statistician\n",
      "3        Marie Curie  1867-11-07  1934-07-04   66             Chemist\n",
      "4      Rachel Carson  1907-05-27  1964-04-14   56           Biologist\n",
      "5          John Snow  1813-03-15  1858-06-16   45           Physician\n",
      "6        Alan Turing  1912-06-23  1954-06-07   41  Computer Scientist\n",
      "7       Johann Gauss  1777-04-30  1855-02-23   77       Mathematician\n"
     ]
    }
   ],
   "source": [
    "print(scientists.loc[[True, True, False, True,True,True,True,True]])"
   ]
  },
  {
   "cell_type": "markdown",
   "id": "b0b022f1",
   "metadata": {},
   "source": [
    "#### 해당 데이터 프래임에 스칼라 연산을 적용한 결과는 시리즈에 스칼라 연산을 적용한 결과와 같음."
   ]
  },
  {
   "cell_type": "code",
   "execution_count": 37,
   "id": "a3cb4460",
   "metadata": {},
   "outputs": [
    {
     "name": "stdout",
     "output_type": "stream",
     "text": [
      "                                       Name                  Born  \\\n",
      "0        Rosaline FranklinRosaline Franklin  1920-07-251920-07-25   \n",
      "1              William GossetWilliam Gosset  1876-06-131876-06-13   \n",
      "2  Florence NightingaleFlorence Nightingale  1820-05-121820-05-12   \n",
      "3                    Marie CurieMarie Curie  1867-11-071867-11-07   \n",
      "4                Rachel CarsonRachel Carson  1907-05-271907-05-27   \n",
      "5                        John SnowJohn Snow  1813-03-151813-03-15   \n",
      "6                    Alan TuringAlan Turing  1912-06-231912-06-23   \n",
      "7                  Johann GaussJohann Gauss  1777-04-301777-04-30   \n",
      "\n",
      "                   Died  Age                            Occupation  \n",
      "0  1958-04-161958-04-16   74                        ChemistChemist  \n",
      "1  1937-10-161937-10-16  122              StatisticianStatistician  \n",
      "2  1910-08-131910-08-13  180                            NurseNurse  \n",
      "3  1934-07-041934-07-04  132                        ChemistChemist  \n",
      "4  1964-04-141964-04-14  112                    BiologistBiologist  \n",
      "5  1858-06-161858-06-16   90                    PhysicianPhysician  \n",
      "6  1954-06-071954-06-07   82  Computer ScientistComputer Scientist  \n",
      "7  1855-02-231855-02-23  154            MathematicianMathematician  \n"
     ]
    }
   ],
   "source": [
    "print(scientists*2)"
   ]
  },
  {
   "cell_type": "markdown",
   "id": "4dc292d4",
   "metadata": {},
   "source": [
    "# Chapter 3_5 시리즈와 데이터프레임의 데이터 처리하기\n",
    "\n",
    "### 시리즈와 데이터프레임의 데이터 처리하기\n",
    "\n",
    "#### scientists 데이터프레임의 Born과 Died 열의 자료형 확인. (각 자료형은 문자열(오브젝트)"
   ]
  },
  {
   "cell_type": "code",
   "execution_count": 50,
   "id": "3d427e38",
   "metadata": {},
   "outputs": [
    {
     "name": "stdout",
     "output_type": "stream",
     "text": [
      "object\n"
     ]
    }
   ],
   "source": [
    "print(scientists[\"Born\"].dtype)"
   ]
  },
  {
   "cell_type": "code",
   "execution_count": 51,
   "id": "8897c6c2",
   "metadata": {},
   "outputs": [
    {
     "name": "stdout",
     "output_type": "stream",
     "text": [
      "object\n"
     ]
    }
   ],
   "source": [
    "print(scientists['Died'].dtype)"
   ]
  },
  {
   "cell_type": "markdown",
   "id": "4d1d1b77",
   "metadata": {},
   "source": [
    "#### 시간관련 작업을 수월하게 진행하기 위해서는 문자열의 자료형은 datetime이라는 자료형으로 바꾸는 것이 좋음.\n",
    "#### Born, Died 열의 자료형을 datetime이라는 자료형으로 바꾼 후 format속성을 '%Y-%m-%d'로 지정한 형식."
   ]
  },
  {
   "cell_type": "code",
   "execution_count": 52,
   "id": "d54e17d9",
   "metadata": {},
   "outputs": [
    {
     "name": "stdout",
     "output_type": "stream",
     "text": [
      "0   1920-07-25\n",
      "1   1876-06-13\n",
      "2   1820-05-12\n",
      "3   1867-11-07\n",
      "4   1907-05-27\n",
      "5   1813-03-15\n",
      "6   1912-06-23\n",
      "7   1777-04-30\n",
      "Name: Born, dtype: datetime64[ns]\n"
     ]
    }
   ],
   "source": [
    "born_datetime = pd.to_datetime(scientists['Born'], format='%Y-%m-%d')\n",
    "print(born_datetime)"
   ]
  },
  {
   "cell_type": "code",
   "execution_count": 53,
   "id": "c47111e3",
   "metadata": {},
   "outputs": [
    {
     "name": "stdout",
     "output_type": "stream",
     "text": [
      "0   1958-04-16\n",
      "1   1937-10-16\n",
      "2   1910-08-13\n",
      "3   1934-07-04\n",
      "4   1964-04-14\n",
      "5   1858-06-16\n",
      "6   1954-06-07\n",
      "7   1855-02-23\n",
      "Name: Died, dtype: datetime64[ns]\n"
     ]
    }
   ],
   "source": [
    "died_datetime = pd.to_datetime(scientists['Died'], format='%Y-%m-%d')\n",
    "print(died_datetime)"
   ]
  },
  {
   "cell_type": "markdown",
   "id": "43e006c9",
   "metadata": {},
   "source": [
    "#### 각 데이터의 자료형을 datetime으로 바꿔, born_datetime, died_datetime에 저장.\n",
    "#### 이를 scientists 데이터프레임에 born_dt, died_dt열을 추가. (Shape 속성을 통해 변화된 크기를 확인할 수 있음.)"
   ]
  },
  {
   "cell_type": "code",
   "execution_count": 54,
   "id": "4096ab79",
   "metadata": {},
   "outputs": [
    {
     "name": "stdout",
     "output_type": "stream",
     "text": [
      "                   Name        Born        Died  Age    Occupation    born_dt  \\\n",
      "0     Rosaline Franklin  1920-07-25  1958-04-16   37       Chemist 1920-07-25   \n",
      "1        William Gosset  1876-06-13  1937-10-16   61  Statistician 1876-06-13   \n",
      "2  Florence Nightingale  1820-05-12  1910-08-13   90         Nurse 1820-05-12   \n",
      "3           Marie Curie  1867-11-07  1934-07-04   66       Chemist 1867-11-07   \n",
      "4         Rachel Carson  1907-05-27  1964-04-14   56     Biologist 1907-05-27   \n",
      "\n",
      "     died_dt  \n",
      "0 1958-04-16  \n",
      "1 1937-10-16  \n",
      "2 1910-08-13  \n",
      "3 1934-07-04  \n",
      "4 1964-04-14  \n"
     ]
    }
   ],
   "source": [
    "scientists['born_dt'],scientists['died_dt']=(born_datetime, died_datetime)\n",
    "print(scientists.head())"
   ]
  },
  {
   "cell_type": "code",
   "execution_count": 55,
   "id": "939d7a0b",
   "metadata": {},
   "outputs": [
    {
     "name": "stdout",
     "output_type": "stream",
     "text": [
      "(8, 7)\n"
     ]
    }
   ],
   "source": [
    "print(scientists.shape)"
   ]
  },
  {
   "cell_type": "markdown",
   "id": "3a71a645",
   "metadata": {},
   "source": [
    "#### died_dt 열에서 born_dt 열을 빼면 과학자의 수명을 계산할 수 있음."
   ]
  },
  {
   "cell_type": "code",
   "execution_count": 57,
   "id": "8329b603",
   "metadata": {},
   "outputs": [
    {
     "name": "stdout",
     "output_type": "stream",
     "text": [
      "                   Name        Born        Died  Age          Occupation  \\\n",
      "0     Rosaline Franklin  1920-07-25  1958-04-16   37             Chemist   \n",
      "1        William Gosset  1876-06-13  1937-10-16   61        Statistician   \n",
      "2  Florence Nightingale  1820-05-12  1910-08-13   90               Nurse   \n",
      "3           Marie Curie  1867-11-07  1934-07-04   66             Chemist   \n",
      "4         Rachel Carson  1907-05-27  1964-04-14   56           Biologist   \n",
      "5             John Snow  1813-03-15  1858-06-16   45           Physician   \n",
      "6           Alan Turing  1912-06-23  1954-06-07   41  Computer Scientist   \n",
      "7          Johann Gauss  1777-04-30  1855-02-23   77       Mathematician   \n",
      "\n",
      "     born_dt    died_dt age_days_dt  \n",
      "0 1920-07-25 1958-04-16  13779 days  \n",
      "1 1876-06-13 1937-10-16  22404 days  \n",
      "2 1820-05-12 1910-08-13  32964 days  \n",
      "3 1867-11-07 1934-07-04  24345 days  \n",
      "4 1907-05-27 1964-04-14  20777 days  \n",
      "5 1813-03-15 1858-06-16  16529 days  \n",
      "6 1912-06-23 1954-06-07  15324 days  \n",
      "7 1777-04-30 1855-02-23  28422 days  \n"
     ]
    }
   ],
   "source": [
    "scientists['age_days_dt']=(scientists['died_dt']-scientists['born_dt'])\n",
    "print(scientists)"
   ]
  },
  {
   "cell_type": "markdown",
   "id": "cf5f2844",
   "metadata": {},
   "source": [
    "### 시리즈, 데이터 프레임의 데이터 섞기\n",
    "\n",
    "####  판다스는 시리즈나 데이터프레임의 값을 무작위로 섞을 수 있음."
   ]
  },
  {
   "cell_type": "code",
   "execution_count": 58,
   "id": "3f2014ab",
   "metadata": {},
   "outputs": [
    {
     "name": "stdout",
     "output_type": "stream",
     "text": [
      "0    37\n",
      "1    61\n",
      "2    90\n",
      "3    66\n",
      "4    56\n",
      "5    45\n",
      "6    41\n",
      "7    77\n",
      "Name: Age, dtype: int64\n"
     ]
    }
   ],
   "source": [
    "print(scientists['Age'])"
   ]
  },
  {
   "cell_type": "markdown",
   "id": "f2eb6fef",
   "metadata": {},
   "source": [
    "#### Age 열의 데이터를 섞기 위해서는 rando 라이브러리를 불러온 후 shuffle 메서드를 이용해야 함."
   ]
  },
  {
   "cell_type": "code",
   "execution_count": 60,
   "id": "6d30a0c4",
   "metadata": {},
   "outputs": [
    {
     "name": "stdout",
     "output_type": "stream",
     "text": [
      "0    66\n",
      "1    56\n",
      "2    41\n",
      "3    77\n",
      "4    90\n",
      "5    45\n",
      "6    37\n",
      "7    61\n",
      "Name: Age, dtype: int64\n"
     ]
    },
    {
     "name": "stderr",
     "output_type": "stream",
     "text": [
      "C:\\Users\\user\\anaconda3\\lib\\random.py:362: SettingWithCopyWarning: \n",
      "A value is trying to be set on a copy of a slice from a DataFrame\n",
      "\n",
      "See the caveats in the documentation: https://pandas.pydata.org/pandas-docs/stable/user_guide/indexing.html#returning-a-view-versus-a-copy\n",
      "  x[i], x[j] = x[j], x[i]\n"
     ]
    }
   ],
   "source": [
    "import random\n",
    "\n",
    "random.seed(42)\n",
    "random.shuffle(scientists['Age'])\n",
    "print(scientists['Age'])"
   ]
  },
  {
   "cell_type": "markdown",
   "id": "4c6d2243",
   "metadata": {},
   "source": [
    "#### 데이터 프레임의 열 삭체는 drop 메서드를 이용.\n",
    "#### 불러온 데이터 중, Age 열을 삭제하는 과정은 다음과 같음."
   ]
  },
  {
   "cell_type": "code",
   "execution_count": 61,
   "id": "ed4d5020",
   "metadata": {},
   "outputs": [
    {
     "name": "stdout",
     "output_type": "stream",
     "text": [
      "Index(['Name', 'Born', 'Died', 'Age', 'Occupation', 'born_dt', 'died_dt',\n",
      "       'age_days_dt'],\n",
      "      dtype='object')\n"
     ]
    }
   ],
   "source": [
    "print(scientists.columns)"
   ]
  },
  {
   "cell_type": "code",
   "execution_count": 64,
   "id": "ccefe21c",
   "metadata": {},
   "outputs": [
    {
     "name": "stdout",
     "output_type": "stream",
     "text": [
      "Index(['Name', 'Born', 'Died', 'Occupation', 'born_dt', 'died_dt',\n",
      "       'age_days_dt'],\n",
      "      dtype='object')\n"
     ]
    }
   ],
   "source": [
    "scientists_dropped = scientists.drop(['Age'], axis=1)\n",
    "print(scientists_dropped.columns)"
   ]
  },
  {
   "cell_type": "markdown",
   "id": "1702bd2d",
   "metadata": {},
   "source": [
    "# Chapter 3_6 데이터 저장하고 불러오기\n",
    "\n",
    "### 데이터를 피클, CSV, TSV 파일로 저장하고 불러오기.\n",
    "\n",
    "### 피클로 저장하기\n",
    "\n",
    "#### 피클은 데이터를 바이너리 형태로 질렬화한 오브젝트를 정장하는 방법.\n",
    "#### 스프레드시트보다 더 작은 용량으로 데이터를 저장할 수 있음.\n",
    "#### 시리즈를 피클로 저장하는 것은 to_pickle 메서드를 사용. (저장 경로는 문자열로 전달해야 함.)\n",
    "#### 데이터 프레임 역시 피클로 저장할 수 있음."
   ]
  },
  {
   "cell_type": "code",
   "execution_count": 73,
   "id": "8dc589f8",
   "metadata": {},
   "outputs": [],
   "source": [
    "names = scientists['Name']\n",
    "names.to_pickle('doit_pandas/output/scientists_names_series.pickle')"
   ]
  },
  {
   "cell_type": "code",
   "execution_count": 74,
   "id": "1e0363bc",
   "metadata": {},
   "outputs": [],
   "source": [
    "scientists.to_pickle('doit_pandas/output/scientists_df.pickle')"
   ]
  },
  {
   "cell_type": "markdown",
   "id": "e4c3476e",
   "metadata": {},
   "source": [
    "#### 피클은 바이너리 형태의 오브젝트이므로 반드시 read_pickle 메서드를 통해 읽어 들여야 함."
   ]
  },
  {
   "cell_type": "code",
   "execution_count": 75,
   "id": "247faff5",
   "metadata": {},
   "outputs": [
    {
     "name": "stdout",
     "output_type": "stream",
     "text": [
      "0       Rosaline Franklin\n",
      "1          William Gosset\n",
      "2    Florence Nightingale\n",
      "3             Marie Curie\n",
      "4           Rachel Carson\n",
      "5               John Snow\n",
      "6             Alan Turing\n",
      "7            Johann Gauss\n",
      "Name: Name, dtype: object\n"
     ]
    }
   ],
   "source": [
    "scientist_names_from_pickle = pd.read_pickle('doit_pandas/output/scientists_names_series.pickle')\n",
    "print(scientist_names_from_pickle)"
   ]
  },
  {
   "cell_type": "code",
   "execution_count": 77,
   "id": "f002108f",
   "metadata": {},
   "outputs": [
    {
     "name": "stdout",
     "output_type": "stream",
     "text": [
      "                   Name        Born        Died  Age          Occupation  \\\n",
      "0     Rosaline Franklin  1920-07-25  1958-04-16   66             Chemist   \n",
      "1        William Gosset  1876-06-13  1937-10-16   56        Statistician   \n",
      "2  Florence Nightingale  1820-05-12  1910-08-13   41               Nurse   \n",
      "3           Marie Curie  1867-11-07  1934-07-04   77             Chemist   \n",
      "4         Rachel Carson  1907-05-27  1964-04-14   90           Biologist   \n",
      "5             John Snow  1813-03-15  1858-06-16   45           Physician   \n",
      "6           Alan Turing  1912-06-23  1954-06-07   37  Computer Scientist   \n",
      "7          Johann Gauss  1777-04-30  1855-02-23   61       Mathematician   \n",
      "\n",
      "     born_dt    died_dt age_days_dt  \n",
      "0 1920-07-25 1958-04-16  13779 days  \n",
      "1 1876-06-13 1937-10-16  22404 days  \n",
      "2 1820-05-12 1910-08-13  32964 days  \n",
      "3 1867-11-07 1934-07-04  24345 days  \n",
      "4 1907-05-27 1964-04-14  20777 days  \n",
      "5 1813-03-15 1858-06-16  16529 days  \n",
      "6 1912-06-23 1954-06-07  15324 days  \n",
      "7 1777-04-30 1855-02-23  28422 days  \n"
     ]
    }
   ],
   "source": [
    "scientists_from_pickle = pd.read_pickle('doit_pandas/output/scientists_df.pickle')\n",
    "print(scientists_from_pickle)"
   ]
  },
  {
   "cell_type": "markdown",
   "id": "0a19f6b7",
   "metadata": {},
   "source": [
    "### CSV 파일과 TSV 파일로 저장하기.\n",
    "\n",
    "#### CSV파일은 데이터를 쉼표(,)로 구분하여 저장.\n",
    "#### TSV파일은 데이터를 탭(tab)으로 구분하여 저장. \n",
    "\n",
    "#### to_csv 메서드를 통해 시리즈와 데이터프레임을 CSV파일로 저장.\n",
    "#### sep 인자를 추가하여 '\\t'를 지정하고 파일의 확장자를 '.tsv'로 지정하면 TSV파일로 저장할 수 있음."
   ]
  },
  {
   "cell_type": "code",
   "execution_count": 79,
   "id": "1d640f03",
   "metadata": {},
   "outputs": [],
   "source": [
    "names.to_csv('doit_pandas/output/scientist_names+series.csv')\n",
    "scientists.to_csv('doit_pandas/output/scientists_df.tsv', sep='\\t')"
   ]
  },
  {
   "cell_type": "markdown",
   "id": "20e01deb",
   "metadata": {},
   "source": [
    "#### 시리즈와 데이터프레임을 엑셀 파일로 저장.\n",
    "\n",
    "#### 데이터프레임은 엑셀 파일형식으로 바로 저장할 수 있는 반면, 시리즈는 엑셀 파일로 정장할 수 있는 데이터프레임으로 변환해야 함. \n",
    "#### 해당 작업을 위해서는 openpyxl 라이브러리가 필요.\n",
    "\n",
    "pip install xlwt\n",
    "pip install openpyxl\n",
    "\n",
    "#### 해당 명령어를 아나콘다 프롬프트에 입력하여 설치.\n",
    "\n",
    "#### 시리즈의 경우 to_frame 이라는 메서드를 사용해 데이터 프레임으로 변환한 뒤 엑셀 파일 (확장자.xls, .xlsx)로 저장."
   ]
  }
 ],
 "metadata": {
  "kernelspec": {
   "display_name": "Python 3 (ipykernel)",
   "language": "python",
   "name": "python3"
  },
  "language_info": {
   "codemirror_mode": {
    "name": "ipython",
    "version": 3
   },
   "file_extension": ".py",
   "mimetype": "text/x-python",
   "name": "python",
   "nbconvert_exporter": "python",
   "pygments_lexer": "ipython3",
   "version": "3.9.7"
  }
 },
 "nbformat": 4,
 "nbformat_minor": 5
}
